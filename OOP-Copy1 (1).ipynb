{
 "cells": [
  {
   "cell_type": "markdown",
   "id": "3d45056a",
   "metadata": {},
   "source": [
    "\n",
    "OOP\n",
    "\n",
    "- heritage\n",
    "- encapsulation\n",
    "- polymorphism\n",
    "\n",
    "Class (name) = Fighter plane\n",
    "\n",
    "Attributes (properties) = length, span and load\n",
    "\n",
    "Methods (operations) = speed up, reduce. change direction\n",
    "\n"
   ]
  },
  {
   "cell_type": "markdown",
   "id": "e37421a3",
   "metadata": {},
   "source": [
    "\n",
    "Insert attributes to product class\n"
   ]
  },
  {
   "cell_type": "code",
   "execution_count": 175,
   "id": "4cb97350",
   "metadata": {},
   "outputs": [],
   "source": [
    "\n",
    "class Product:\n",
    "    \n",
    "     def __init__(self, code: int, description: str, price: float, stock_quantity: float)->None:\n",
    "         self.code = code\n",
    "         self.description = description\n",
    "         self.price = price\n",
    "         self.stock_quantity = stock_quantity\n",
    "    \n"
   ]
  },
  {
   "cell_type": "markdown",
   "id": "89868a58",
   "metadata": {},
   "source": [
    "\n",
    "Insert methods to the Products class\n"
   ]
  },
  {
   "cell_type": "code",
   "execution_count": 176,
   "id": "036d043f",
   "metadata": {},
   "outputs": [],
   "source": [
    "\n",
    "class Product:\n",
    "    \n",
    "    def __init__(self, code: int, description: str, price: float, stock_quantity: float)->None:\n",
    "         self.code = code\n",
    "         self.description = description\n",
    "         self.price = price\n",
    "         self.stock_quantity = stock_quantity\n",
    "\n",
    "    def stock_input(self, quantity: float)->None:\n",
    "         self.stock_quantity += quantity\n",
    "        \n",
    "    def stock_out(self, quantity: float)->None:\n",
    "         self.stock_quantity -= quantity\n",
    "            \n",
    "    def view_quantity_in_stock(self)->None:     \n",
    "         print(f' quantity is {self.stock_quantity}')\n",
    "    \n",
    "    "
   ]
  },
  {
   "cell_type": "markdown",
   "id": "672b2e16",
   "metadata": {},
   "source": [
    "\n",
    "Using the services of the Product class\n",
    "\n",
    "Advantages of OOP:\n",
    "- Behavior is encapsulated\n",
    "- It is easier to read and has a more robust structure\n",
    "\n"
   ]
  },
  {
   "cell_type": "markdown",
   "id": "cc17109a",
   "metadata": {},
   "source": [
    "\n",
    "Declaring the variable a_product\n"
   ]
  },
  {
   "cell_type": "code",
   "execution_count": 177,
   "id": "be67271a",
   "metadata": {},
   "outputs": [],
   "source": [
    "\n",
    "a_product = Product(1,'car stereo', 574.20, 8)\n"
   ]
  },
  {
   "cell_type": "markdown",
   "id": "52b16ea5",
   "metadata": {},
   "source": [
    "\n",
    "Add 3 in stock_quantity \n"
   ]
  },
  {
   "cell_type": "code",
   "execution_count": 178,
   "id": "4cc18acc",
   "metadata": {},
   "outputs": [
    {
     "name": "stdout",
     "output_type": "stream",
     "text": [
      " quantity is 13.0\n"
     ]
    }
   ],
   "source": [
    "\n",
    "a_product.stock_input(5.0)\n",
    "\n",
    "a_product.view_quantity_in_stock()\n",
    "\n"
   ]
  },
  {
   "cell_type": "markdown",
   "id": "5890e036",
   "metadata": {},
   "source": [
    "\n",
    "Reduce 5 in stock_quantity\n"
   ]
  },
  {
   "cell_type": "code",
   "execution_count": 179,
   "id": "11ca59bd",
   "metadata": {},
   "outputs": [
    {
     "name": "stdout",
     "output_type": "stream",
     "text": [
      " quantity is 6.0\n"
     ]
    }
   ],
   "source": [
    "\n",
    "a_product.stock_out(7.0)\n",
    "\n",
    "a_product.view_quantity_in_stock()\n",
    "\n"
   ]
  }
 ],
 "metadata": {
  "kernelspec": {
   "display_name": "Python 3 (ipykernel)",
   "language": "python",
   "name": "python3"
  },
  "language_info": {
   "codemirror_mode": {
    "name": "ipython",
    "version": 3
   },
   "file_extension": ".py",
   "mimetype": "text/x-python",
   "name": "python",
   "nbconvert_exporter": "python",
   "pygments_lexer": "ipython3",
   "version": "3.9.13"
  }
 },
 "nbformat": 4,
 "nbformat_minor": 5
}
